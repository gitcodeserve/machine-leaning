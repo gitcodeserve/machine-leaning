{
 "cells": [
  {
   "cell_type": "code",
   "execution_count": 7,
   "metadata": {},
   "outputs": [
    {
     "name": "stdout",
     "output_type": "stream",
     "text": [
      "apple\n",
      "orange\n",
      "otter\n",
      "iguana\n",
      "eagle\n"
     ]
    }
   ],
   "source": [
    "words = ['apple', 'orange', 'pear', 'milk', 'otter', 'snake','iguana','tiger','eagle']\n",
    "for word in words:\n",
    "    if word[0] in 'aeiou':\n",
    "        print(word)"
   ]
  },
  {
   "cell_type": "code",
   "execution_count": 9,
   "metadata": {},
   "outputs": [
    {
     "name": "stdout",
     "output_type": "stream",
     "text": [
      "['apple', 'orange', 'otter', 'iguana', 'eagle']\n"
     ]
    }
   ],
   "source": [
    "words_starting_with_vowel = [word for word in words if word[0] in 'aeiou']\n",
    "print (words_starting_with_vowel)\n"
   ]
  },
  {
   "cell_type": "code",
   "execution_count": 15,
   "metadata": {},
   "outputs": [
    {
     "name": "stdout",
     "output_type": "stream",
     "text": [
      "['old', 'apple', 'item', 'euphoria']\n"
     ]
    }
   ],
   "source": [
    "import ast,sys\n",
    "input_str = sys.stdin.read()\n",
    "input_list = ['wood', 'old', 'apple', 'big', 'item', 'euphoria'] \n",
    "vowels = ['a','e','i','o','u']\n",
    "list_vowel = [word for word in input_list if word[0].lower() in vowels]\n",
    "\n",
    "print(list_vowel)"
   ]
  },
  {
   "cell_type": "code",
   "execution_count": 3,
   "metadata": {},
   "outputs": [
    {
     "name": "stdout",
     "output_type": "stream",
     "text": [
      "[[1 2 3 4]\n",
      " [5 6 7 8]\n",
      " [2 3 4 5]\n",
      " [1 1 1 1]]\n",
      "[[1 5 2 1]\n",
      " [2 6 3 1]\n",
      " [3 7 4 1]\n",
      " [4 8 5 1]]\n",
      "[[ 30  70  40  10]\n",
      " [ 70 174  96  26]\n",
      " [ 40  96  54  14]\n",
      " [ 10  26  14   4]]\n"
     ]
    }
   ],
   "source": [
    "import numpy as np\n",
    "\n",
    "A = np.array ([[1,2,3,4], [5,6,7,8], [2,3,4,5], [1,1,1,1]])\n",
    "\n",
    "print (A)\n",
    "print (A.T)\n",
    "\n",
    "print (np.dot(A, A.T))"
   ]
  },
  {
   "cell_type": "code",
   "execution_count": 5,
   "metadata": {},
   "outputs": [
    {
     "name": "stdout",
     "output_type": "stream",
     "text": [
      "[-2.   0.5 -1. ]\n"
     ]
    }
   ],
   "source": [
    "import numpy as np\n",
    "\n",
    "A = np.array([[2, 6, -1], \n",
    "              [1, 2, -2], \n",
    "              [-5, 0, 2]])\n",
    "b = np.array([0, 1, 8])\n",
    "\n",
    "# compute the inverse\n",
    "A_inv = np.linalg.inv(A)\n",
    "\n",
    "# solution: A_inv * b\n",
    "x = np.dot(A_inv, b)\n",
    "print(x) # returns [ 0.  0. -1.]"
   ]
  },
  {
   "cell_type": "code",
   "execution_count": 6,
   "metadata": {},
   "outputs": [
    {
     "name": "stdout",
     "output_type": "stream",
     "text": [
      "[[ 0.  1.]\n",
      " [-1. -0.]]\n"
     ]
    }
   ],
   "source": [
    "import numpy as np\n",
    "\n",
    "A = np.array ([[0,-1], [1, 0]])\n",
    "\n",
    "print (np.linalg.inv(A))"
   ]
  },
  {
   "cell_type": "code",
   "execution_count": 12,
   "metadata": {},
   "outputs": [
    {
     "name": "stdout",
     "output_type": "stream",
     "text": [
      "2\n"
     ]
    }
   ],
   "source": [
    "import numpy as np\n",
    "\n",
    "A = np.array ([[2, -1, -1], \n",
    "              [2, -1, 1], \n",
    "              [4, -2, -3]])\n",
    "\n",
    "print ( np.linalg.matrix_rank(A))"
   ]
  },
  {
   "cell_type": "code",
   "execution_count": 11,
   "metadata": {},
   "outputs": [
    {
     "name": "stdout",
     "output_type": "stream",
     "text": [
      "0.0\n"
     ]
    }
   ],
   "source": [
    "import numpy as np\n",
    "\n",
    "A = np.array([[2, -1, -1], \n",
    "              [2, -1, 1], \n",
    "              [4, -2, -3]])\n",
    "\n",
    "b = np.array([1, 0, -1])\n",
    "\n",
    "print (np.linalg.det(A))\n"
   ]
  },
  {
   "cell_type": "code",
   "execution_count": 17,
   "metadata": {},
   "outputs": [
    {
     "name": "stdout",
     "output_type": "stream",
     "text": [
      "(array([-3., 13.]), array([[-0.70710678, -0.61394061],\n",
      "       [ 0.70710678, -0.78935222]]))\n"
     ]
    }
   ],
   "source": [
    "import numpy as np\n",
    "\n",
    "A = np.array ([[4,7], [9,6]])\n",
    "print (np.linalg.eig(A))\n"
   ]
  },
  {
   "cell_type": "code",
   "execution_count": null,
   "metadata": {},
   "outputs": [],
   "source": []
  },
  {
   "cell_type": "code",
   "execution_count": null,
   "metadata": {},
   "outputs": [],
   "source": []
  }
 ],
 "metadata": {
  "kernelspec": {
   "display_name": "Python 3",
   "language": "python",
   "name": "python3"
  },
  "language_info": {
   "codemirror_mode": {
    "name": "ipython",
    "version": 3
   },
   "file_extension": ".py",
   "mimetype": "text/x-python",
   "name": "python",
   "nbconvert_exporter": "python",
   "pygments_lexer": "ipython3",
   "version": "3.7.6"
  }
 },
 "nbformat": 4,
 "nbformat_minor": 4
}
