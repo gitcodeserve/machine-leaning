{
 "cells": [
  {
   "cell_type": "code",
   "execution_count": 1,
   "metadata": {
    "scrolled": true
   },
   "outputs": [
    {
     "name": "stdout",
     "output_type": "stream",
     "text": [
      "Please enter your nameShantanu Kishore Sahay\n",
      "Hello,  Shantanu Kishore Sahay\n"
     ]
    }
   ],
   "source": [
    "name = input (\"Please enter your name\")\n",
    "print (\"Hello, \", name)"
   ]
  },
  {
   "cell_type": "markdown",
   "metadata": {},
   "source": [
    "# This is markdown text.. Title\n",
    "## Heading 1\n",
    "### Heading 2\n",
    "#### Heading 3\n",
    "\n",
    "__Bold__\n",
    "**Bold**\n",
    "\n",
    "_Italic_\n",
    "*Italic*\n",
    "\n",
    "\n",
    "`Monospace font` <br/>`My name is Bond 007`\n",
    "\n",
    "\n",
    "Indententation 1\n",
    "> Indententation 2\n",
    ">> Indententation 3\n",
    ">>> Indententation 4\n",
    "\n",
    "$LeTex equation ... $"
   ]
  },
  {
   "cell_type": "code",
   "execution_count": null,
   "metadata": {},
   "outputs": [],
   "source": []
  }
 ],
 "metadata": {
  "kernelspec": {
   "display_name": "Python 3",
   "language": "python",
   "name": "python3"
  },
  "language_info": {
   "codemirror_mode": {
    "name": "ipython",
    "version": 3
   },
   "file_extension": ".py",
   "mimetype": "text/x-python",
   "name": "python",
   "nbconvert_exporter": "python",
   "pygments_lexer": "ipython3",
   "version": "3.7.1"
  }
 },
 "nbformat": 4,
 "nbformat_minor": 2
}
